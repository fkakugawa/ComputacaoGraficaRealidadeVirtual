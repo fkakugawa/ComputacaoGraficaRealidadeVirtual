{
  "nbformat": 4,
  "nbformat_minor": 0,
  "metadata": {
    "colab": {
      "provenance": []
    },
    "kernelspec": {
      "name": "python3",
      "display_name": "Python 3"
    },
    "language_info": {
      "name": "python"
    }
  },
  "cells": [
    {
      "cell_type": "markdown",
      "source": [
        "Bibliotecas"
      ],
      "metadata": {
        "id": "T7bFPDe59tQh"
      }
    },
    {
      "cell_type": "code",
      "execution_count": 1,
      "metadata": {
        "id": "VakRhM499XRn"
      },
      "outputs": [],
      "source": [
        "import cv2\n",
        "from google.colab.patches import cv2_imshow\n",
        "import numpy as np"
      ]
    },
    {
      "cell_type": "markdown",
      "source": [
        "Leitura de arquivo"
      ],
      "metadata": {
        "id": "sP-t5Ans917v"
      }
    },
    {
      "cell_type": "code",
      "source": [
        "imagem = cv2.imread('Bolinhas.jpg')"
      ],
      "metadata": {
        "id": "H25ASVZQ949O"
      },
      "execution_count": 2,
      "outputs": []
    },
    {
      "cell_type": "markdown",
      "source": [
        "Convertendo RGB em CMYK utilizando NumPy"
      ],
      "metadata": {
        "id": "yYjIM71h-JmA"
      }
    },
    {
      "cell_type": "code",
      "source": [
        "img = imagem.astype(np.float64)/255.\n",
        "K = 1 - np.max(img, axis=2)\n",
        "C = (1-img[...,2] - K)/(1-K)\n",
        "M = (1-img[...,1] - K)/(1-K)\n",
        "Y = (1-img[...,0] - K)/(1-K)\n",
        "\n",
        "imagem_cmyk = (np.dstack((C,M,Y,K)) * 255).astype(np.uint8)"
      ],
      "metadata": {
        "id": "eumoQXlP-Qby"
      },
      "execution_count": null,
      "outputs": []
    },
    {
      "cell_type": "markdown",
      "source": [
        "Apresentando a imagem original"
      ],
      "metadata": {
        "id": "VLKYO9Tp-o3J"
      }
    },
    {
      "cell_type": "code",
      "source": [
        "print('IMAGEM ORIGINAL')\n",
        "cv2_imshow(imagem)"
      ],
      "metadata": {
        "id": "-AWMzumz-xaf"
      },
      "execution_count": null,
      "outputs": []
    },
    {
      "cell_type": "markdown",
      "source": [
        "Apresentando a imagem em CMYK"
      ],
      "metadata": {
        "id": "1DdpIbxAAPZZ"
      }
    },
    {
      "cell_type": "code",
      "source": [
        "print('IMAGEM CMYK')\n",
        "cv2_imshow(imagem_cmyk)"
      ],
      "metadata": {
        "id": "cFJkSZUfANk_"
      },
      "execution_count": null,
      "outputs": []
    },
    {
      "cell_type": "markdown",
      "source": [
        "Separando CMYK"
      ],
      "metadata": {
        "id": "KfKFspcgB2gt"
      }
    },
    {
      "cell_type": "code",
      "source": [
        "(Y, M, C, K) = cv2.split(imagem_cmyk)"
      ],
      "metadata": {
        "id": "txBqylbPAreP"
      },
      "execution_count": 6,
      "outputs": []
    },
    {
      "cell_type": "markdown",
      "source": [
        "Canal C"
      ],
      "metadata": {
        "id": "JSS3OJMLCHpH"
      }
    },
    {
      "cell_type": "code",
      "source": [
        "cv2_imshow(C)"
      ],
      "metadata": {
        "id": "cy56CTGRCKk6"
      },
      "execution_count": null,
      "outputs": []
    },
    {
      "cell_type": "markdown",
      "source": [
        "Canal M"
      ],
      "metadata": {
        "id": "SeRN3cyDCUc_"
      }
    },
    {
      "cell_type": "code",
      "source": [
        "cv2_imshow(M)"
      ],
      "metadata": {
        "id": "O3eOa1JxCWY5"
      },
      "execution_count": null,
      "outputs": []
    },
    {
      "cell_type": "markdown",
      "source": [
        "Canal Y"
      ],
      "metadata": {
        "id": "dTRiOAd5CZ5u"
      }
    },
    {
      "cell_type": "code",
      "source": [
        "cv2_imshow(Y)"
      ],
      "metadata": {
        "id": "KUpr5_OLCcxM"
      },
      "execution_count": null,
      "outputs": []
    },
    {
      "cell_type": "markdown",
      "source": [
        "Canal K"
      ],
      "metadata": {
        "id": "PBY0CyzvCi4I"
      }
    },
    {
      "cell_type": "code",
      "source": [
        "cv2_imshow(K)"
      ],
      "metadata": {
        "id": "3ZUI9wMwCkSX"
      },
      "execution_count": null,
      "outputs": []
    }
  ]
}