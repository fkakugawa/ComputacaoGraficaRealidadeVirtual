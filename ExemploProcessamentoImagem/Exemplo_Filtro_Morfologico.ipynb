{
  "nbformat": 4,
  "nbformat_minor": 0,
  "metadata": {
    "colab": {
      "provenance": []
    },
    "kernelspec": {
      "name": "python3",
      "display_name": "Python 3"
    },
    "language_info": {
      "name": "python"
    }
  },
  "cells": [
    {
      "cell_type": "code",
      "execution_count": 1,
      "metadata": {
        "id": "RMjQZgM_AS1M"
      },
      "outputs": [],
      "source": [
        "import cv2\n",
        "import numpy as np\n",
        "from google.colab.patches import cv2_imshow"
      ]
    },
    {
      "cell_type": "code",
      "source": [
        "img_1 = cv2.imread('Morfologia1.jpg', cv2.IMREAD_GRAYSCALE)\n",
        "cv2_imshow(img_1)"
      ],
      "metadata": {
        "id": "pEG-89JiLWn-"
      },
      "execution_count": null,
      "outputs": []
    },
    {
      "cell_type": "code",
      "source": [
        "kernel = np.ones((3,3), np.uint8)\n",
        "abertura = cv2.morphologyEx(img_1, cv2.MORPH_OPEN, kernel)\n",
        "cv2_imshow(abertura)"
      ],
      "metadata": {
        "id": "KATasPbyG---"
      },
      "execution_count": null,
      "outputs": []
    },
    {
      "cell_type": "code",
      "source": [
        "img_2 = cv2.imread('Morfologia2.jpg', cv2.IMREAD_GRAYSCALE)\n",
        "cv2_imshow(img_2)"
      ],
      "metadata": {
        "id": "OOiwnc6XIQiv"
      },
      "execution_count": null,
      "outputs": []
    },
    {
      "cell_type": "code",
      "source": [
        "kernel = np.ones((3,3), np.uint8)\n",
        "fechamento = cv2.morphologyEx(img_2, cv2.MORPH_CLOSE, kernel)\n",
        "cv2_imshow(fechamento)"
      ],
      "metadata": {
        "id": "6uhaZL3dHDDk"
      },
      "execution_count": null,
      "outputs": []
    },
    {
      "cell_type": "code",
      "source": [
        "img_3 = cv2.imread('Morfologia3.jpg', cv2.IMREAD_GRAYSCALE)\n",
        "cv2_imshow(img_3)"
      ],
      "metadata": {
        "id": "18G7ig4bHG8v"
      },
      "execution_count": null,
      "outputs": []
    },
    {
      "cell_type": "code",
      "source": [
        "kernel = np.ones((5,5), np.uint8)\n",
        "gradiente = cv2.morphologyEx(img_3, cv2.MORPH_GRADIENT, kernel)\n",
        "cv2_imshow(gradiente)"
      ],
      "metadata": {
        "id": "YEI30DAwMtew"
      },
      "execution_count": null,
      "outputs": []
    }
  ]
}