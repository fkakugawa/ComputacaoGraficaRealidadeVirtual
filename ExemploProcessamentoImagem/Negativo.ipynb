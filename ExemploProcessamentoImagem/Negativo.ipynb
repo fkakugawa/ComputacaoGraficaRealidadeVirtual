{
  "nbformat": 4,
  "nbformat_minor": 0,
  "metadata": {
    "colab": {
      "provenance": []
    },
    "kernelspec": {
      "name": "python3",
      "display_name": "Python 3"
    },
    "language_info": {
      "name": "python"
    }
  },
  "cells": [
    {
      "cell_type": "code",
      "execution_count": 1,
      "metadata": {
        "id": "7aZpY0nF1bOr"
      },
      "outputs": [],
      "source": [
        "import cv2\n",
        "from google.colab.patches import cv2_imshow\n",
        "import matplotlib.pyplot as plt"
      ]
    },
    {
      "cell_type": "code",
      "source": [
        "imagem = cv2.imread('pessoas.jpg')\n",
        "cv2_imshow(imagem)"
      ],
      "metadata": {
        "id": "HO61260K1o2m"
      },
      "execution_count": null,
      "outputs": []
    },
    {
      "cell_type": "code",
      "source": [
        "img_negativo = 255 - imagem\n",
        "cv2_imshow(img_negativo)"
      ],
      "metadata": {
        "id": "x8RgC9pA2RnR"
      },
      "execution_count": null,
      "outputs": []
    },
    {
      "cell_type": "code",
      "source": [
        "img_cinza = cv2.cvtColor(imagem, cv2.COLOR_BGR2GRAY)\n",
        "cv2_imshow(img_cinza)"
      ],
      "metadata": {
        "id": "dx2vA6Rz2c3Z"
      },
      "execution_count": null,
      "outputs": []
    },
    {
      "cell_type": "code",
      "source": [
        "cinza_ng = 255 - img_cinza\n",
        "cv2_imshow(cinza_ng)"
      ],
      "metadata": {
        "id": "wETHjIWr3KmJ"
      },
      "execution_count": null,
      "outputs": []
    }
  ]
}