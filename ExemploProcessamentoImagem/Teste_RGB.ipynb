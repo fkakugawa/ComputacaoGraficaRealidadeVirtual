{
  "nbformat": 4,
  "nbformat_minor": 0,
  "metadata": {
    "colab": {
      "provenance": []
    },
    "kernelspec": {
      "name": "python3",
      "display_name": "Python 3"
    },
    "language_info": {
      "name": "python"
    }
  },
  "cells": [
    {
      "cell_type": "code",
      "execution_count": 1,
      "metadata": {
        "id": "MNMqjFQmD49v"
      },
      "outputs": [],
      "source": [
        "import cv2\n",
        "from google.colab.patches import cv2_imshow\n",
        "import pandas as pd"
      ]
    },
    {
      "cell_type": "markdown",
      "source": [
        "Leitura e impressão na tela do arquivo de imagem"
      ],
      "metadata": {
        "id": "whMX0CcCEPeh"
      }
    },
    {
      "cell_type": "code",
      "source": [
        "imagem = cv2.imread('Bolinhas.jpg')\n",
        "cv2_imshow(imagem)"
      ],
      "metadata": {
        "id": "-MLTVcBRETD9"
      },
      "execution_count": null,
      "outputs": []
    },
    {
      "cell_type": "code",
      "source": [
        "type(imagem)\n"
      ],
      "metadata": {
        "id": "X_K6pdx56nqv"
      },
      "execution_count": null,
      "outputs": []
    },
    {
      "cell_type": "code",
      "source": [
        "imagem"
      ],
      "metadata": {
        "id": "hFnPrfF-64Md"
      },
      "execution_count": null,
      "outputs": []
    },
    {
      "cell_type": "code",
      "source": [
        "(b,g,r) = imagem[0,0]\n",
        "print(r)\n",
        "print(g)\n",
        "print(b)\n",
        "print(imagem[0,0])"
      ],
      "metadata": {
        "id": "BS_4teGr7MEr"
      },
      "execution_count": null,
      "outputs": []
    },
    {
      "cell_type": "code",
      "source": [
        "print(imagem.shape[0])\n",
        "print(imagem.shape[1])\n",
        "print(imagem.shape[2])"
      ],
      "metadata": {
        "id": "oYqjWJZEJ2PC"
      },
      "execution_count": null,
      "outputs": []
    },
    {
      "cell_type": "markdown",
      "source": [
        "Separando as cores do RGB"
      ],
      "metadata": {
        "id": "xldnoO32EkCl"
      }
    },
    {
      "cell_type": "code",
      "source": [
        "(azul, verde, vermelho) = cv2.split(imagem)\n",
        "vermelho"
      ],
      "metadata": {
        "id": "8IGkbUfPEoht"
      },
      "execution_count": null,
      "outputs": []
    },
    {
      "cell_type": "markdown",
      "source": [
        "Canal vermelho"
      ],
      "metadata": {
        "id": "WroDtfpjEwpJ"
      }
    },
    {
      "cell_type": "code",
      "source": [
        "cv2_imshow(vermelho)"
      ],
      "metadata": {
        "id": "VNdgA5FBE0Fu"
      },
      "execution_count": null,
      "outputs": []
    },
    {
      "cell_type": "markdown",
      "source": [
        "Canal verde"
      ],
      "metadata": {
        "id": "uUALIR-qE0vG"
      }
    },
    {
      "cell_type": "code",
      "source": [
        "cv2_imshow(verde)"
      ],
      "metadata": {
        "id": "wZAxsYqSE29y"
      },
      "execution_count": null,
      "outputs": []
    },
    {
      "cell_type": "markdown",
      "source": [
        "Canal azul"
      ],
      "metadata": {
        "id": "e-WA559pE3gF"
      }
    },
    {
      "cell_type": "code",
      "source": [
        "cv2_imshow(azul)"
      ],
      "metadata": {
        "id": "oo7cR1DsE5eb"
      },
      "execution_count": null,
      "outputs": []
    },
    {
      "cell_type": "markdown",
      "source": [
        "Salvando matriz em planilha"
      ],
      "metadata": {
        "id": "FHb4WCp1NTV8"
      }
    },
    {
      "cell_type": "code",
      "source": [
        "df = pd.DataFrame(azul)\n",
        "df.to_excel('azul.xlsx')"
      ],
      "metadata": {
        "id": "6sgtGv2okHjL"
      },
      "execution_count": 13,
      "outputs": []
    },
    {
      "cell_type": "code",
      "source": [
        "print(azul.shape[0])\n",
        "print(azul.shape[1])"
      ],
      "metadata": {
        "id": "cMp-D0MH9l30"
      },
      "execution_count": null,
      "outputs": []
    }
  ]
}