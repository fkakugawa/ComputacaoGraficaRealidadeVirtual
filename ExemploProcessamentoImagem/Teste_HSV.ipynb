{
  "nbformat": 4,
  "nbformat_minor": 0,
  "metadata": {
    "colab": {
      "provenance": []
    },
    "kernelspec": {
      "name": "python3",
      "display_name": "Python 3"
    },
    "language_info": {
      "name": "python"
    }
  },
  "cells": [
    {
      "cell_type": "code",
      "execution_count": 1,
      "metadata": {
        "id": "DzOMsaxRKZUs"
      },
      "outputs": [],
      "source": [
        "import cv2\n",
        "from google.colab.patches import cv2_imshow"
      ]
    },
    {
      "cell_type": "code",
      "source": [
        "imagem = cv2.imread('Bolinhas.jpg')\n",
        "cv2_imshow(imagem)"
      ],
      "metadata": {
        "id": "i4zq0IQDKqvV"
      },
      "execution_count": null,
      "outputs": []
    },
    {
      "cell_type": "code",
      "source": [
        "imagem_hsv = cv2.cvtColor(imagem, cv2.COLOR_BGR2HSV)\n",
        "cv2_imshow(imagem_hsv)"
      ],
      "metadata": {
        "id": "fGA52mYeLez3"
      },
      "execution_count": null,
      "outputs": []
    },
    {
      "cell_type": "code",
      "source": [
        "h, s, v = cv2.split(imagem_hsv)"
      ],
      "metadata": {
        "id": "MTlMX5_OQX-c"
      },
      "execution_count": 4,
      "outputs": []
    },
    {
      "cell_type": "code",
      "source": [
        "cv2_imshow(h)"
      ],
      "metadata": {
        "id": "pkvTNq8xQiNI"
      },
      "execution_count": null,
      "outputs": []
    },
    {
      "cell_type": "code",
      "source": [
        "cv2_imshow(s)"
      ],
      "metadata": {
        "id": "jx-ouj7wQi1w"
      },
      "execution_count": null,
      "outputs": []
    },
    {
      "cell_type": "code",
      "source": [
        "cv2_imshow(v)"
      ],
      "metadata": {
        "id": "rUIvmxWJQjPU"
      },
      "execution_count": null,
      "outputs": []
    }
  ]
}