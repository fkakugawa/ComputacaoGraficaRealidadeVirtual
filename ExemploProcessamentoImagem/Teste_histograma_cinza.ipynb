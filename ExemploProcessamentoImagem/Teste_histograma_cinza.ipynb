{
  "nbformat": 4,
  "nbformat_minor": 0,
  "metadata": {
    "colab": {
      "provenance": []
    },
    "kernelspec": {
      "name": "python3",
      "display_name": "Python 3"
    },
    "language_info": {
      "name": "python"
    }
  },
  "cells": [
    {
      "cell_type": "code",
      "execution_count": null,
      "metadata": {
        "id": "h-Q8d8zvUJXC"
      },
      "outputs": [],
      "source": [
        "import cv2\n",
        "import numpy as np\n",
        "from google.colab.patches import cv2_imshow\n",
        "from matplotlib import pyplot as plt"
      ]
    },
    {
      "cell_type": "code",
      "source": [
        "imagem = cv2.imread('FlorestaEscura.jpg',cv2.IMREAD_GRAYSCALE)\n",
        "cv2_imshow(imagem)"
      ],
      "metadata": {
        "id": "rt4L8nvAWamX"
      },
      "execution_count": null,
      "outputs": []
    },
    {
      "cell_type": "code",
      "source": [
        "imagem"
      ],
      "metadata": {
        "id": "6V__tStzI6ac"
      },
      "execution_count": null,
      "outputs": []
    },
    {
      "cell_type": "code",
      "source": [
        "assert imagem is not None, \"file could not be read, check with os.path.exists()\"\n",
        "plt.hist(imagem.ravel(),256,[0,256]); plt.show()"
      ],
      "metadata": {
        "id": "djcK2tw81Zfc"
      },
      "execution_count": null,
      "outputs": []
    },
    {
      "cell_type": "code",
      "source": [
        "img_equalizada = cv2.equalizeHist(imagem)\n",
        "plt.hist(img_equalizada.ravel(),256,[0,256])\n",
        "plt.show()"
      ],
      "metadata": {
        "id": "psorzkze2Jqs"
      },
      "execution_count": null,
      "outputs": []
    },
    {
      "cell_type": "code",
      "source": [
        "cv2_imshow(img_equalizada)"
      ],
      "metadata": {
        "id": "T79VbTzcKLKD"
      },
      "execution_count": null,
      "outputs": []
    }
  ]
}