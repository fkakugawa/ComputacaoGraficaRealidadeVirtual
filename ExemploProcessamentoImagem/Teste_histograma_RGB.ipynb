{
  "nbformat": 4,
  "nbformat_minor": 0,
  "metadata": {
    "colab": {
      "provenance": []
    },
    "kernelspec": {
      "name": "python3",
      "display_name": "Python 3"
    },
    "language_info": {
      "name": "python"
    }
  },
  "cells": [
    {
      "cell_type": "code",
      "execution_count": null,
      "metadata": {
        "id": "MNMqjFQmD49v"
      },
      "outputs": [],
      "source": [
        "import cv2\n",
        "import numpy as np\n",
        "from google.colab.patches import cv2_imshow\n",
        "from matplotlib import pyplot as plt\n",
        "import pandas as pd\n"
      ]
    },
    {
      "cell_type": "markdown",
      "source": [
        "Leitura e impressão na tela do arquivo de imagem"
      ],
      "metadata": {
        "id": "whMX0CcCEPeh"
      }
    },
    {
      "cell_type": "code",
      "source": [
        "imagem = cv2.imread('caminhao.jpg')\n",
        "cv2_imshow(imagem)"
      ],
      "metadata": {
        "id": "-MLTVcBRETD9"
      },
      "execution_count": null,
      "outputs": []
    },
    {
      "cell_type": "code",
      "source": [
        "(azul, verde, vermelho) = cv2.split(imagem)"
      ],
      "metadata": {
        "id": "8IGkbUfPEoht"
      },
      "execution_count": null,
      "outputs": []
    },
    {
      "cell_type": "code",
      "source": [
        "cv2_imshow(vermelho)\n",
        "assert vermelho is not None, \"file could not be read, check with os.path.exists()\"\n",
        "plt.hist(vermelho.ravel(),256,[0,256]); plt.show()"
      ],
      "metadata": {
        "id": "VNdgA5FBE0Fu"
      },
      "execution_count": null,
      "outputs": []
    },
    {
      "cell_type": "code",
      "source": [
        "vermelho_eq = cv2.equalizeHist(vermelho)\n",
        "plt.hist(vermelho_eq.ravel(),256,[0,256])\n",
        "plt.show()"
      ],
      "metadata": {
        "id": "wZAxsYqSE29y"
      },
      "execution_count": null,
      "outputs": []
    },
    {
      "cell_type": "code",
      "source": [
        "cv2_imshow(vermelho_eq)"
      ],
      "metadata": {
        "id": "gG2OYIdiOISS"
      },
      "execution_count": null,
      "outputs": []
    },
    {
      "cell_type": "code",
      "source": [
        "cv2_imshow(verde)\n",
        "assert verde is not None, \"file could not be read, check with os.path.exists()\"\n",
        "plt.hist(verde.ravel(),256,[0,256]); plt.show()\n",
        "verde_eq = cv2.equalizeHist(verde)\n",
        "plt.hist(verde_eq.ravel(),256,[0,256])\n",
        "plt.show()\n",
        "cv2_imshow(verde_eq)"
      ],
      "metadata": {
        "id": "GhLtNZkJEvRM"
      },
      "execution_count": null,
      "outputs": []
    },
    {
      "cell_type": "code",
      "source": [
        "cv2_imshow(azul)\n",
        "assert azul is not None, \"file could not be read, check with os.path.exists()\"\n",
        "plt.hist(azul.ravel(),256,[0,256]); plt.show()\n",
        "azul_eq = cv2.equalizeHist(azul)\n",
        "plt.hist(azul_eq.ravel(),256,[0,256])\n",
        "plt.show()\n",
        "cv2_imshow(azul_eq)"
      ],
      "metadata": {
        "id": "oIM9ku7-FJUb"
      },
      "execution_count": null,
      "outputs": []
    },
    {
      "cell_type": "code",
      "source": [
        "imagem_eq = cv2.merge([azul_eq, verde_eq, vermelho_eq])\n",
        "cv2_imshow(imagem_eq)"
      ],
      "metadata": {
        "id": "ktiLz6doFWPU"
      },
      "execution_count": null,
      "outputs": []
    }
  ]
}