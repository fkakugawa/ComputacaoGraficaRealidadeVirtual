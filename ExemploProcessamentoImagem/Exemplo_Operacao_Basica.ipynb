{
  "nbformat": 4,
  "nbformat_minor": 0,
  "metadata": {
    "colab": {
      "provenance": []
    },
    "kernelspec": {
      "name": "python3",
      "display_name": "Python 3"
    },
    "language_info": {
      "name": "python"
    }
  },
  "cells": [
    {
      "cell_type": "code",
      "execution_count": 1,
      "metadata": {
        "id": "V6Ai2hZIQW3p"
      },
      "outputs": [],
      "source": [
        "import cv2\n",
        "import numpy as np\n",
        "from google.colab.patches import cv2_imshow"
      ]
    },
    {
      "cell_type": "code",
      "source": [
        "img01 = cv2.imread('1.jpg', cv2.IMREAD_GRAYSCALE)\n",
        "cv2_imshow(img01)"
      ],
      "metadata": {
        "id": "6qq1vCx4Qmc_"
      },
      "execution_count": null,
      "outputs": []
    },
    {
      "cell_type": "code",
      "source": [
        "img02 = cv2.imread('2.jpg', cv2.IMREAD_GRAYSCALE)\n",
        "cv2_imshow(img02)"
      ],
      "metadata": {
        "id": "8TOgjVcTRp85"
      },
      "execution_count": null,
      "outputs": []
    },
    {
      "cell_type": "markdown",
      "source": [
        "Complemento da imagem 1"
      ],
      "metadata": {
        "id": "WkaI3xtTZjCg"
      }
    },
    {
      "cell_type": "code",
      "source": [
        "img01_complemento = cv2.bitwise_not(img01)\n",
        "cv2_imshow(img01_complemento)"
      ],
      "metadata": {
        "id": "k9wskGaRVUUK"
      },
      "execution_count": null,
      "outputs": []
    },
    {
      "cell_type": "markdown",
      "source": [
        "Complemento da imagem 2"
      ],
      "metadata": {
        "id": "I3Z0x3WzZmMh"
      }
    },
    {
      "cell_type": "code",
      "source": [
        "img02_complemento = cv2.bitwise_not(img02)\n",
        "cv2_imshow(img02_complemento)"
      ],
      "metadata": {
        "id": "rbwr4YgRVmOy"
      },
      "execution_count": null,
      "outputs": []
    },
    {
      "cell_type": "markdown",
      "source": [
        "Operação de união das imagens"
      ],
      "metadata": {
        "id": "EOzDgj5UZoFy"
      }
    },
    {
      "cell_type": "code",
      "source": [
        "uniao = cv2.bitwise_or(img01, img02)\n",
        "cv2_imshow(uniao)"
      ],
      "metadata": {
        "id": "H69b07xtUxVG"
      },
      "execution_count": null,
      "outputs": []
    },
    {
      "cell_type": "markdown",
      "source": [
        "Operação de diferença das imagens"
      ],
      "metadata": {
        "id": "Z0eQuP6PZu--"
      }
    },
    {
      "cell_type": "code",
      "source": [
        "diferenca = cv2.subtract(img01, img02)\n",
        "cv2_imshow(diferenca)"
      ],
      "metadata": {
        "id": "cZs5ATZUU8xC"
      },
      "execution_count": null,
      "outputs": []
    },
    {
      "cell_type": "markdown",
      "source": [
        "Operação de interseccao entre as imagens"
      ],
      "metadata": {
        "id": "Ugd3fVRSZzn6"
      }
    },
    {
      "cell_type": "code",
      "source": [
        "interseccao = cv2.bitwise_and(img01, img02)\n",
        "cv2_imshow(interseccao)"
      ],
      "metadata": {
        "id": "l7iHclfJRuvs"
      },
      "execution_count": null,
      "outputs": []
    }
  ]
}