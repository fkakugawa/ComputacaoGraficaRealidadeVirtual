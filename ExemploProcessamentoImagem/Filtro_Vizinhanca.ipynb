{
  "nbformat": 4,
  "nbformat_minor": 0,
  "metadata": {
    "colab": {
      "provenance": []
    },
    "kernelspec": {
      "name": "python3",
      "display_name": "Python 3"
    },
    "language_info": {
      "name": "python"
    }
  },
  "cells": [
    {
      "cell_type": "code",
      "execution_count": 52,
      "metadata": {
        "id": "kg4b4hbbyHmk"
      },
      "outputs": [],
      "source": [
        "import cv2\n",
        "from google.colab.patches import cv2_imshow\n",
        "import numpy as np"
      ]
    },
    {
      "cell_type": "code",
      "source": [
        "imagem = cv2.imread('MM2.jpg',cv2.IMREAD_GRAYSCALE)\n",
        "cv2_imshow(imagem)\n"
      ],
      "metadata": {
        "id": "Vxzdig0Yyh5J"
      },
      "execution_count": null,
      "outputs": []
    },
    {
      "cell_type": "markdown",
      "source": [
        "Aplica filtro passa alta"
      ],
      "metadata": {
        "id": "sAHNaSiHywri"
      }
    },
    {
      "cell_type": "code",
      "source": [
        "mascara1 = np.array([[-1, -1, -1],\n",
        "                    [-1, 8, -1],\n",
        "                    [-1, -1, -1]])\n",
        "\n",
        "img_identidade = cv2.filter2D(src=imagem, ddepth=-1, kernel=mascara1)"
      ],
      "metadata": {
        "id": "2vgWbA51y1Xw"
      },
      "execution_count": 63,
      "outputs": []
    },
    {
      "cell_type": "code",
      "source": [
        "cv2_imshow(imagem)"
      ],
      "metadata": {
        "id": "5BtqPpMnzJEs"
      },
      "execution_count": null,
      "outputs": []
    },
    {
      "cell_type": "code",
      "source": [
        "cv2_imshow(img_identidade)"
      ],
      "metadata": {
        "id": "5H1rhm_VzkZ1"
      },
      "execution_count": null,
      "outputs": []
    },
    {
      "cell_type": "code",
      "source": [
        "img_borda = 255 - img_identidade\n",
        "cv2_imshow(img_borda)"
      ],
      "metadata": {
        "id": "DZ1cikcXRN3t"
      },
      "execution_count": null,
      "outputs": []
    },
    {
      "cell_type": "markdown",
      "source": [
        "Constroi template e aplica filtro passa baixa"
      ],
      "metadata": {
        "id": "MtKMPc5A0WzW"
      }
    },
    {
      "cell_type": "code",
      "source": [
        "kernel2 = np.ones((5, 5), np.float32) / 25\n",
        "img_blur = cv2.filter2D(src=imagem, ddepth=-1, kernel=kernel2)"
      ],
      "metadata": {
        "id": "6iCqdBcC0YEW"
      },
      "execution_count": 66,
      "outputs": []
    },
    {
      "cell_type": "code",
      "source": [
        "cv2_imshow(img_blur)"
      ],
      "metadata": {
        "id": "kV6KdEZb0nXA"
      },
      "execution_count": null,
      "outputs": []
    }
  ]
}