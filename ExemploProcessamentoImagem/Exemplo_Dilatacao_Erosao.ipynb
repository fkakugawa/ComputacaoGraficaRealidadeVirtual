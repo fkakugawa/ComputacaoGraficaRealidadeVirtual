{
  "nbformat": 4,
  "nbformat_minor": 0,
  "metadata": {
    "colab": {
      "provenance": []
    },
    "kernelspec": {
      "name": "python3",
      "display_name": "Python 3"
    },
    "language_info": {
      "name": "python"
    }
  },
  "cells": [
    {
      "cell_type": "code",
      "execution_count": 13,
      "metadata": {
        "id": "jGVooLAduYqA"
      },
      "outputs": [],
      "source": [
        "import cv2\n",
        "import numpy as np\n",
        "from google.colab.patches import cv2_imshow"
      ]
    },
    {
      "cell_type": "code",
      "source": [
        "imagem = cv2.imread('Morfologia.jpg', cv2.IMREAD_GRAYSCALE)\n",
        "kernel = np.ones((3,3), np.uint8)\n",
        "cv2_imshow(imagem)"
      ],
      "metadata": {
        "id": "TxoqFpx5utlB"
      },
      "execution_count": null,
      "outputs": []
    },
    {
      "cell_type": "code",
      "source": [
        "erosao = cv2.erode(imagem, kernel, iterations=1)\n",
        "cv2_imshow(erosao)"
      ],
      "metadata": {
        "id": "FisaUGeRvWh5"
      },
      "execution_count": null,
      "outputs": []
    },
    {
      "cell_type": "code",
      "source": [
        "dilatacao = cv2.dilate(imagem, kernel, iterations=1)\n",
        "cv2_imshow(dilatacao)"
      ],
      "metadata": {
        "id": "hUnWqfRZ_f5M"
      },
      "execution_count": null,
      "outputs": []
    }
  ]
}
